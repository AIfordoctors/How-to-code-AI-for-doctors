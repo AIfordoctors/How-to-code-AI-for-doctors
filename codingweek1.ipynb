{
  "nbformat": 4,
  "nbformat_minor": 0,
  "metadata": {
    "colab": {
      "provenance": []
    },
    "kernelspec": {
      "name": "python3",
      "display_name": "Python 3"
    },
    "language_info": {
      "name": "python"
    }
  },
  "cells": [
    {
      "cell_type": "markdown",
      "source": [
        "# Variables\n",
        "\n",
        "*   These store values including text or numbers\n",
        "*   Variables can be assigned values before or during the running of code\n",
        "*   to display a variable, you can use the `print` function\n",
        "\n",
        "\n"
      ],
      "metadata": {
        "id": "kXWkwc9nXqML"
      }
    },
    {
      "cell_type": "code",
      "execution_count": null,
      "metadata": {
        "id": "62pQc2GcXBCF"
      },
      "outputs": [],
      "source": [
        "#let's assign and display some variables\n",
        "\n",
        "A = 10\n",
        "\n",
        "print(A)\n",
        "\n",
        "#note, variables are case-sensitive\n",
        "#what do you think would happen if I changed the capital A to a lowercase a"
      ]
    },
    {
      "cell_type": "code",
      "source": [
        "#let's add assign some additional varibles\n",
        "\n",
        "B = 12\n",
        "C = 24\n",
        "\n",
        "print(B)\n",
        "print(C)"
      ],
      "metadata": {
        "id": "V1Wv_fqZYsU_"
      },
      "execution_count": null,
      "outputs": []
    },
    {
      "cell_type": "code",
      "source": [
        "#we can make our code more concise by condensing these commands into fewer lines using commas\n",
        "\n",
        "B, C = 110.55, 200\n",
        "\n",
        "#what would the output be of the following print function?\n",
        "\n",
        "print(A, B, C)"
      ],
      "metadata": {
        "id": "LV4exKBAZN6M"
      },
      "execution_count": null,
      "outputs": []
    },
    {
      "cell_type": "markdown",
      "source": [
        "# Types of variable\n",
        "These include:\n",
        "* integers: `int`\n",
        "* floating point number, a non-integer: `float`\n",
        "* strings, text data, usually seen within \"\" marks: `str`\n",
        "* boolean, binary state of True or False: `bool`\n",
        "\n",
        "You can check what type a variable is using the function `type()`\n",
        "\n",
        "Also note we've been 'commenting' within the code using a hashtag"
      ],
      "metadata": {
        "id": "npR6a5PJcrUt"
      }
    },
    {
      "cell_type": "code",
      "source": [
        "#what type of variable is A and B?\n",
        "\n",
        "print(type(A), type(B))"
      ],
      "metadata": {
        "id": "VtdiqO4adhCW"
      },
      "execution_count": null,
      "outputs": []
    },
    {
      "cell_type": "code",
      "source": [
        "#strings are assigned to variables using '' or \"\"\n",
        "\n",
        "D = 'this is a string'\n",
        "E = \"this is also a string\"\n",
        "\n",
        "print(D, E)"
      ],
      "metadata": {
        "id": "T3NfNku2ds7b"
      },
      "execution_count": null,
      "outputs": []
    },
    {
      "cell_type": "code",
      "source": [
        "#we can assign strings to variables as above, or directly insert them into functions, or both\n",
        "\n",
        "print ('string')"
      ],
      "metadata": {
        "id": "BUgNDWO6gtQV"
      },
      "execution_count": null,
      "outputs": []
    },
    {
      "cell_type": "code",
      "source": [
        "print(D, 'AND', E)"
      ],
      "metadata": {
        "id": "k5EaU-OTg_JD"
      },
      "execution_count": null,
      "outputs": []
    },
    {
      "cell_type": "markdown",
      "source": [
        "#Basic arithmetic\n",
        "\n",
        "Code can be used to do maths, for example:\n",
        "* addition: +\n",
        "* subtraction: -\n",
        "* multiplication: *\n",
        "* exponent: **\n",
        "* division: /\n",
        "* division with remainder: %"
      ],
      "metadata": {
        "id": "bobYbs4xh61m"
      }
    },
    {
      "cell_type": "code",
      "source": [
        "#let's multiply our variables from earlier together\n",
        "\n",
        "print(A * B * C)"
      ],
      "metadata": {
        "id": "1drdW2uHi5EO"
      },
      "execution_count": null,
      "outputs": []
    },
    {
      "cell_type": "code",
      "source": [
        "#let's add them together and save the output as a new variable\n",
        "#do you expect to see anything output after this code is run?\n",
        "\n",
        "add = A + B + C"
      ],
      "metadata": {
        "id": "PYrZeIF2jEnn"
      },
      "execution_count": null,
      "outputs": []
    },
    {
      "cell_type": "code",
      "source": [
        "# a note on colab\n",
        "\n",
        "add"
      ],
      "metadata": {
        "id": "neKpvuTQkBil"
      },
      "execution_count": null,
      "outputs": []
    },
    {
      "cell_type": "code",
      "source": [
        "#what would the following code output as?\n",
        "\n",
        "A = 1\n",
        "B = '2'\n",
        "\n",
        "print(A + B)"
      ],
      "metadata": {
        "id": "_LYSALqyj95L"
      },
      "execution_count": null,
      "outputs": []
    },
    {
      "cell_type": "markdown",
      "source": [
        "#Strings\n",
        "\n",
        "Strings don't have 'meaning' in the same way numbers do e.g. they can't be used in arithmetic.\n",
        "Instead, they're treated as a series of letters.\n",
        "\n",
        "We can reference a particular letter using square brackets `[ ]`.\n",
        "\n",
        "This is called indexing, in coding we start counting from 0(!)"
      ],
      "metadata": {
        "id": "83D8KMmmkd9k"
      }
    },
    {
      "cell_type": "code",
      "source": [
        "#what do we need to add to the below code before it'll print properly?\n",
        "#let's assign a new string and print it\n",
        "\n",
        "word = hello world\n",
        "\n",
        "print(word)"
      ],
      "metadata": {
        "id": "LcOXfRlslQnL"
      },
      "execution_count": null,
      "outputs": []
    },
    {
      "cell_type": "code",
      "source": [
        "#what was the code (repeated) trying to do in the above cell?\n",
        "#why didn't it work?\n",
        "\n",
        "word = hello world\n",
        "\n",
        "print(word)"
      ],
      "metadata": {
        "id": "kRadtuJlKl9c"
      },
      "execution_count": null,
      "outputs": []
    },
    {
      "cell_type": "code",
      "source": [
        "#we can print the 1st letter only by indexing\n",
        "\n",
        "print(word[0])"
      ],
      "metadata": {
        "id": "7ExFcGZwlZDx"
      },
      "execution_count": null,
      "outputs": []
    },
    {
      "cell_type": "code",
      "source": [
        "#we can print the last letter by counting backwards using a negative index\n",
        "\n",
        "print(word[-1])"
      ],
      "metadata": {
        "id": "U00hn_mOlixm"
      },
      "execution_count": null,
      "outputs": []
    },
    {
      "cell_type": "code",
      "source": [
        "#we can print a range of letters by using a : to specify a range\n",
        "\n",
        "print(word[0:3])\n",
        "\n",
        "#is this the output you expected?"
      ],
      "metadata": {
        "id": "ZYwtWDCelueV"
      },
      "execution_count": null,
      "outputs": []
    },
    {
      "cell_type": "code",
      "source": [
        "#if we're lazy, we can omit numbers before or after the : to count from the beginning/to the end, respectively\n",
        "\n",
        "print(word[1:6])\n",
        "print(word[:6])\n",
        "print(word[1:])"
      ],
      "metadata": {
        "id": "1EmXx77fLybP"
      },
      "execution_count": null,
      "outputs": []
    },
    {
      "cell_type": "markdown",
      "source": [
        "\n",
        "\n",
        "---\n",
        "\n"
      ],
      "metadata": {
        "id": "mNExlmYumlv8"
      }
    },
    {
      "cell_type": "markdown",
      "source": [
        "#Operators\n",
        "\n",
        "Comparison operators compare values and return a `True` or `False` (Boolean). These include:\n",
        "* greater than: >\n",
        "* greater than or equal to: >=\n",
        "* equal: ==\n",
        "* inequal: !="
      ],
      "metadata": {
        "id": "SmHz3z2omoAm"
      }
    },
    {
      "cell_type": "code",
      "source": [
        "#let's check if 9 is equal to 9\n",
        "\n",
        "print(9 == 9)"
      ],
      "metadata": {
        "id": "XFYyaZmKnfjn"
      },
      "execution_count": null,
      "outputs": []
    },
    {
      "cell_type": "code",
      "source": [
        "#we can do the same using variables\n",
        "\n",
        "A = 20\n",
        "B = 50\n",
        "\n",
        "#how do we check if A is bigger than B?"
      ],
      "metadata": {
        "id": "VtrEO3Xunkpv"
      },
      "execution_count": null,
      "outputs": []
    },
    {
      "cell_type": "code",
      "source": [
        "#we can use logical operators to combine multiple comparisons and output a single T/F\n",
        "#for example using 'and'\n",
        "\n",
        "print(A>B and B>A)"
      ],
      "metadata": {
        "id": "mY0S3Ws8nyLR"
      },
      "execution_count": null,
      "outputs": []
    },
    {
      "cell_type": "code",
      "source": [
        "#or using 'or'\n",
        "\n",
        "print(A>B or B>A)"
      ],
      "metadata": {
        "id": "3-yReS7OoX1a"
      },
      "execution_count": null,
      "outputs": []
    },
    {
      "cell_type": "code",
      "source": [
        "#we can use 'not' to reverse a statement\n",
        "\n",
        "print (not A>B and B>A)"
      ],
      "metadata": {
        "id": "xxGlZxlYodsq"
      },
      "execution_count": null,
      "outputs": []
    },
    {
      "cell_type": "markdown",
      "source": [
        "\n",
        "\n",
        "---\n",
        "\n"
      ],
      "metadata": {
        "id": "WqpldHtHpLqU"
      }
    },
    {
      "cell_type": "markdown",
      "source": [
        "# Conditionals\n",
        "\n",
        "Very important - make decisions within code. They operate similarly to a flowchart.\n",
        "\n",
        "They use the function `if` followed by a colon `:`\n",
        "\n",
        "If the statement is `True`, indented code after the `:` will be executed.\n",
        "\n",
        "The best way to indent is using the tab key, although inserting spaces with the spacebar will work too. Often coding software (like colab) will indent for you."
      ],
      "metadata": {
        "id": "yw74-UH7pNZo"
      }
    },
    {
      "cell_type": "code",
      "source": [
        "#below is a simple example of how to set up an if statement\n",
        "\n",
        "x = 20\n",
        "\n",
        "if x>10:\n",
        "    x = x/2\n",
        "\n",
        "print(x)\n",
        "\n",
        "#what other value for our variable x would give the same output?"
      ],
      "metadata": {
        "id": "lpozWQ_Popbb"
      },
      "execution_count": null,
      "outputs": []
    },
    {
      "cell_type": "code",
      "source": [
        "#else conditions are setup in a similar way\n",
        "\n",
        "print('start')\n",
        "\n",
        "x = True\n",
        "\n",
        "if x == True:\n",
        "    print('x is true')\n",
        "\n",
        "else:\n",
        "    print('x is false')\n",
        "\n",
        "print('finish')\n",
        "\n",
        "#note code after the else also needs to be indented"
      ],
      "metadata": {
        "id": "mblWB98BJVoS"
      },
      "execution_count": null,
      "outputs": []
    },
    {
      "cell_type": "code",
      "source": [
        "#note, in if statements, we can omit '== True'\n",
        "#what would this piece of code output?\n",
        "\n",
        "x = True\n",
        "\n",
        "if x:\n",
        "    print('x is true')\n",
        "\n",
        "else:\n",
        "    print('x is false')\n",
        "\n",
        "#what if we change x to 2?\n",
        "#what if we change x to 0?"
      ],
      "metadata": {
        "id": "Sluny0NWMIBf"
      },
      "execution_count": null,
      "outputs": []
    },
    {
      "cell_type": "code",
      "source": [
        "#elif is the function used for else if statements\n",
        "\n",
        "x = 20\n",
        "\n",
        "if x>15:\n",
        "    print(\"x is above 15\")\n",
        "\n",
        "elif x>10:\n",
        "    print(\"x is between 11 and 15\")\n",
        "\n",
        "elif x>=5:\n",
        "    print(\"x is between 5 to 10\")\n",
        "\n",
        "else:\n",
        "    print(\"x is less than 5\")"
      ],
      "metadata": {
        "id": "XIGEqI0kKL0r"
      },
      "execution_count": null,
      "outputs": []
    },
    {
      "cell_type": "code",
      "source": [
        "#in the above example, we saw how a variable can be reassigned\n",
        "#the below code takes the original value of x, halves it, then stores this as x\n",
        "\n",
        "x = x/2\n",
        "\n",
        "print(x)"
      ],
      "metadata": {
        "id": "pIWpwc2pLN54"
      },
      "execution_count": null,
      "outputs": []
    },
    {
      "cell_type": "markdown",
      "source": [
        "\n",
        "\n",
        "---\n",
        "\n"
      ],
      "metadata": {
        "id": "GQJbwaRYNRqw"
      }
    },
    {
      "cell_type": "markdown",
      "source": [
        "#User input\n",
        "\n",
        "We can use the `input` function to take user inputed data and save it as a string. \n",
        "\n",
        "Note: this means numbers won't be treated as numerical data unless converted."
      ],
      "metadata": {
        "id": "NKMOtuo5NScZ"
      }
    },
    {
      "cell_type": "code",
      "source": [
        "#Below is an example of the input function\n",
        "#You can use a string in the brackets to provide a user prompt\n",
        "\n",
        "a = input(\"enter text here:\")\n",
        "\n",
        "print(a)"
      ],
      "metadata": {
        "id": "16D4Om9uLykC"
      },
      "execution_count": null,
      "outputs": []
    },
    {
      "cell_type": "code",
      "source": [
        "#Remember, numbers are not treated as numerical values, instead they are treated as a string.\n",
        "#What would happen if we were to try to run the following code?\n",
        "\n",
        "a = input(\"enter a number:\")\n",
        "\n",
        "print(a/2)"
      ],
      "metadata": {
        "id": "vIS0v_fYOLKw"
      },
      "execution_count": null,
      "outputs": []
    },
    {
      "cell_type": "code",
      "source": [
        "#We can fix this by using the int function to change a string to an integer. This is called casting.\n",
        "\n",
        "a = int(a)\n",
        "\n",
        "print(a/2)"
      ],
      "metadata": {
        "id": "sHymJo6xOg1n"
      },
      "execution_count": null,
      "outputs": []
    }
  ]
}