{
  "nbformat": 4,
  "nbformat_minor": 0,
  "metadata": {
    "colab": {
      "provenance": []
    },
    "kernelspec": {
      "name": "python3",
      "display_name": "Python 3"
    },
    "language_info": {
      "name": "python"
    }
  },
  "cells": [
    {
      "cell_type": "markdown",
      "source": [
        "#Coding week 1 answers\n",
        "\n",
        "Below you can find the answers to week 1's coding exercises.\n",
        "\n",
        "I'd suggest having a go at the exercises first and then comparing your code to mine, or having a look if you get stuck.\n",
        "\n",
        "Try and keep your code legible so it's easy to follow when you come back to look at it. To help with this, you can use a # to add 'comments' to your code, as I've done below."
      ],
      "metadata": {
        "id": "OM9Ifb4rBa1a"
      }
    },
    {
      "cell_type": "code",
      "execution_count": null,
      "metadata": {
        "id": "U2eK7A0YBS7S"
      },
      "outputs": [],
      "source": [
        "#exercise 1.1\n",
        "#creating two numerical variables\n",
        "\n",
        "number1 = 23\n",
        "number2 = 6"
      ]
    },
    {
      "cell_type": "code",
      "source": [
        "#1.2\n",
        "#printing the sum\n",
        "\n",
        "print(number1 + number2)"
      ],
      "metadata": {
        "colab": {
          "base_uri": "https://localhost:8080/"
        },
        "id": "VvQ034FMCYQ3",
        "outputId": "76e70744-1774-4ee4-8926-a5a681961f01"
      },
      "execution_count": null,
      "outputs": [
        {
          "output_type": "stream",
          "name": "stdout",
          "text": [
            "30\n"
          ]
        }
      ]
    },
    {
      "cell_type": "code",
      "source": [
        "#1.3\n",
        "#saving the product as a new variable\n",
        "\n",
        "product = number1 * number2\n",
        "\n",
        "#and printing the result\n",
        "\n",
        "print(product)"
      ],
      "metadata": {
        "colab": {
          "base_uri": "https://localhost:8080/"
        },
        "id": "XixsQ8qlCevQ",
        "outputId": "dc6acefe-3257-4bbf-a3e5-cf62f23a67ca"
      },
      "execution_count": null,
      "outputs": [
        {
          "output_type": "stream",
          "name": "stdout",
          "text": [
            "161\n"
          ]
        }
      ]
    },
    {
      "cell_type": "code",
      "source": [
        "#1.4\n",
        "#overwriting the above variable\n",
        "\n",
        "product = 180\n",
        "\n",
        "print(product)"
      ],
      "metadata": {
        "colab": {
          "base_uri": "https://localhost:8080/"
        },
        "id": "3rJTzEuRCkdE",
        "outputId": "527db972-587c-4a9a-cfb7-59c209953875"
      },
      "execution_count": null,
      "outputs": [
        {
          "output_type": "stream",
          "name": "stdout",
          "text": [
            "180\n"
          ]
        }
      ]
    },
    {
      "cell_type": "code",
      "source": [
        "#1.5\n",
        "#dividing the above numbers with a remainder\n",
        "\n",
        "remainder = number1 % number2\n",
        "\n",
        "#and printing the result\n",
        "\n",
        "print(remainder)"
      ],
      "metadata": {
        "colab": {
          "base_uri": "https://localhost:8080/"
        },
        "id": "YPhFRB-GC7oJ",
        "outputId": "4d5fadab-2eba-485d-81cb-37653796d57c"
      },
      "execution_count": null,
      "outputs": [
        {
          "output_type": "stream",
          "name": "stdout",
          "text": [
            "2\n"
          ]
        }
      ]
    },
    {
      "cell_type": "code",
      "source": [
        "#1.6\n",
        "#saving the dimensions of the field\n",
        "\n",
        "length = 1.5\n",
        "width = 0.8"
      ],
      "metadata": {
        "id": "T6_pL8ahDZ2T"
      },
      "execution_count": null,
      "outputs": []
    },
    {
      "cell_type": "code",
      "source": [
        "#1.7\n",
        "#firstly calculating the area of the field\n",
        "\n",
        "area = length * width\n",
        "\n",
        "#then multiply this by the cost per acre\n",
        "\n",
        "cost = area * 1200\n",
        "\n",
        "#printing the cost\n",
        "\n",
        "print('the cost is £', cost)"
      ],
      "metadata": {
        "colab": {
          "base_uri": "https://localhost:8080/"
        },
        "id": "5y_fFiYOEBVi",
        "outputId": "a237ee5a-a447-4c4c-b677-fec10569b879"
      },
      "execution_count": null,
      "outputs": [
        {
          "output_type": "stream",
          "name": "stdout",
          "text": [
            "the cost is £ 1440.0000000000002\n"
          ]
        }
      ]
    },
    {
      "cell_type": "code",
      "source": [
        "#exercise 2.1\n",
        "#saving strings as new variables\n",
        "\n",
        "word1 = 'hello'\n",
        "word2 = 'world'"
      ],
      "metadata": {
        "id": "GPX98z6GETqv"
      },
      "execution_count": null,
      "outputs": []
    },
    {
      "cell_type": "code",
      "source": [
        "#2.2\n",
        "#using operators to combine the above\n",
        "\n",
        "combined = word1 + word2\n",
        "\n",
        "print(combined)"
      ],
      "metadata": {
        "colab": {
          "base_uri": "https://localhost:8080/"
        },
        "id": "_nx0dQL2EqMa",
        "outputId": "e1d3dc7c-2131-415a-fe08-c92358cc82c8"
      },
      "execution_count": null,
      "outputs": [
        {
          "output_type": "stream",
          "name": "stdout",
          "text": [
            "helloworld\n"
          ]
        }
      ]
    },
    {
      "cell_type": "code",
      "source": [
        "#2.3\n",
        "#using indexing to print the w\n",
        "\n",
        "print(combined[5])"
      ],
      "metadata": {
        "colab": {
          "base_uri": "https://localhost:8080/"
        },
        "id": "il3qlQkFExBb",
        "outputId": "73e93af7-0b14-4846-a8b7-798816f377b4"
      },
      "execution_count": null,
      "outputs": [
        {
          "output_type": "stream",
          "name": "stdout",
          "text": [
            "w\n"
          ]
        }
      ]
    },
    {
      "cell_type": "code",
      "source": [
        "#2.4\n",
        "#printing the last three letters\n",
        "\n",
        "print(combined[-3:])\n",
        "\n",
        "#or\n",
        "\n",
        "print(combined[7:])\n",
        "\n",
        "#or\n",
        "\n",
        "print(combined[7:11])"
      ],
      "metadata": {
        "colab": {
          "base_uri": "https://localhost:8080/"
        },
        "id": "rrqOoi2IE4_N",
        "outputId": "1d1ab94c-371f-44ec-de65-cbf2af21f9e9"
      },
      "execution_count": null,
      "outputs": [
        {
          "output_type": "stream",
          "name": "stdout",
          "text": [
            "rld\n",
            "rld\n",
            "rld\n"
          ]
        }
      ]
    },
    {
      "cell_type": "code",
      "source": [
        "#exercise 3.1\n",
        "#using operators to compare our earlier numbers\n",
        "\n",
        "print(number1 > number2)\n",
        "\n",
        "#changing number1 so it is smaller then rerunning the same code\n",
        "\n",
        "number1 = 5\n",
        "\n",
        "print(number1 > number2)"
      ],
      "metadata": {
        "colab": {
          "base_uri": "https://localhost:8080/"
        },
        "id": "j8rJj-7TFEfh",
        "outputId": "0d5b96f0-79c6-4393-9075-9c3087255241"
      },
      "execution_count": null,
      "outputs": [
        {
          "output_type": "stream",
          "name": "stdout",
          "text": [
            "True\n",
            "False\n"
          ]
        }
      ]
    },
    {
      "cell_type": "code",
      "source": [
        "#3.2\n",
        "#checking the type of our numbers\n",
        "\n",
        "print(type(number1) == type(number2))"
      ],
      "metadata": {
        "colab": {
          "base_uri": "https://localhost:8080/"
        },
        "id": "mbiVADegFqmk",
        "outputId": "6fdcc1c7-e61c-44ac-e20e-fa3c02e3bd3c"
      },
      "execution_count": null,
      "outputs": [
        {
          "output_type": "stream",
          "name": "stdout",
          "text": [
            "True\n"
          ]
        }
      ]
    },
    {
      "cell_type": "code",
      "source": [
        "#3.3\n",
        "#comparing the first letters of our earlier words\n",
        "\n",
        "print(word1[0] == word2[0])"
      ],
      "metadata": {
        "colab": {
          "base_uri": "https://localhost:8080/"
        },
        "id": "Htlczzn6F_71",
        "outputId": "6a8a5c4f-39ba-4d05-db4f-225d36fcb349"
      },
      "execution_count": null,
      "outputs": [
        {
          "output_type": "stream",
          "name": "stdout",
          "text": [
            "False\n"
          ]
        }
      ]
    },
    {
      "cell_type": "code",
      "source": [
        "#3.4\n",
        "#checking in both of our numbers are even\n",
        "\n",
        "print(number1%2==0 and number2%2==0)\n",
        "\n",
        "#changing number1 so that it is even\n",
        "\n",
        "number1 = 4\n",
        "\n",
        "print(number1%2==0 and number2%2==0)"
      ],
      "metadata": {
        "colab": {
          "base_uri": "https://localhost:8080/"
        },
        "id": "7Gfg4L2kGfjy",
        "outputId": "9cd01b03-5fb3-42ce-d47e-6132a21eba75"
      },
      "execution_count": null,
      "outputs": [
        {
          "output_type": "stream",
          "name": "stdout",
          "text": [
            "False\n",
            "True\n"
          ]
        }
      ]
    },
    {
      "cell_type": "code",
      "source": [
        "#3.5\n",
        "#checking if either of our numbers are even\n",
        "\n",
        "print(number1%2==0 or number2%2==0)\n",
        "\n",
        "#changing number1 to an odd number and rerunning the code\n",
        "\n",
        "number1 = 7\n",
        "\n",
        "print(number1%2==0 or number2%2==0)\n",
        "\n",
        "#changing number2 so it is also an odd number and rerunning the code\n",
        "\n",
        "number2 = 9\n",
        "\n",
        "print(number1%2==0 or number2%2==0)"
      ],
      "metadata": {
        "colab": {
          "base_uri": "https://localhost:8080/"
        },
        "id": "urRtA0EnG_R9",
        "outputId": "021ad5ba-8071-4770-c6e9-2e9528d79210"
      },
      "execution_count": null,
      "outputs": [
        {
          "output_type": "stream",
          "name": "stdout",
          "text": [
            "True\n",
            "True\n",
            "False\n"
          ]
        }
      ]
    },
    {
      "cell_type": "code",
      "source": [
        "#3.6\n",
        "#experimenting with arithemetical operators on True/False values\n",
        "\n",
        "print(True + True)"
      ],
      "metadata": {
        "colab": {
          "base_uri": "https://localhost:8080/"
        },
        "id": "yNzpEwlGHPLX",
        "outputId": "ae78a111-bb03-4d98-e735-eb2042d1d88a"
      },
      "execution_count": null,
      "outputs": [
        {
          "output_type": "stream",
          "name": "stdout",
          "text": [
            "2\n"
          ]
        }
      ]
    },
    {
      "cell_type": "code",
      "source": [
        "print(True + False)"
      ],
      "metadata": {
        "colab": {
          "base_uri": "https://localhost:8080/"
        },
        "id": "h5yILxAkHjHn",
        "outputId": "b6e9d296-d4cf-4117-e71d-bf0dcfb41ebe"
      },
      "execution_count": null,
      "outputs": [
        {
          "output_type": "stream",
          "name": "stdout",
          "text": [
            "1\n"
          ]
        }
      ]
    },
    {
      "cell_type": "code",
      "source": [
        "print(True - True)"
      ],
      "metadata": {
        "colab": {
          "base_uri": "https://localhost:8080/"
        },
        "id": "_94UgpR7Hn_9",
        "outputId": "ccaa4f0f-1c98-4957-fc09-1877ce8324b4"
      },
      "execution_count": null,
      "outputs": [
        {
          "output_type": "stream",
          "name": "stdout",
          "text": [
            "0\n"
          ]
        }
      ]
    },
    {
      "cell_type": "code",
      "source": [
        "print(True - False)"
      ],
      "metadata": {
        "colab": {
          "base_uri": "https://localhost:8080/"
        },
        "id": "ZU0IDjX3Hpx3",
        "outputId": "f0465a06-7ff0-4168-ffdd-3cc514c2abc3"
      },
      "execution_count": null,
      "outputs": [
        {
          "output_type": "stream",
          "name": "stdout",
          "text": [
            "1\n"
          ]
        }
      ]
    },
    {
      "cell_type": "code",
      "source": [
        "print(True * False)"
      ],
      "metadata": {
        "colab": {
          "base_uri": "https://localhost:8080/"
        },
        "id": "2SE-FcwVHrhq",
        "outputId": "b921d16a-b04d-4dfd-8ed5-092d8405a023"
      },
      "execution_count": null,
      "outputs": [
        {
          "output_type": "stream",
          "name": "stdout",
          "text": [
            "0\n"
          ]
        }
      ]
    },
    {
      "cell_type": "code",
      "source": [
        "print(True / False)"
      ],
      "metadata": {
        "colab": {
          "base_uri": "https://localhost:8080/",
          "height": 165
        },
        "id": "cdD5WoCpHuHE",
        "outputId": "39ded077-97ed-45e9-a874-7c85d077a605"
      },
      "execution_count": null,
      "outputs": [
        {
          "output_type": "error",
          "ename": "ZeroDivisionError",
          "evalue": "ignored",
          "traceback": [
            "\u001b[0;31m---------------------------------------------------------------------------\u001b[0m",
            "\u001b[0;31mZeroDivisionError\u001b[0m                         Traceback (most recent call last)",
            "\u001b[0;32m<ipython-input-37-89a2cd47f04e>\u001b[0m in \u001b[0;36m<cell line: 1>\u001b[0;34m()\u001b[0m\n\u001b[0;32m----> 1\u001b[0;31m \u001b[0mprint\u001b[0m\u001b[0;34m(\u001b[0m\u001b[0;32mTrue\u001b[0m \u001b[0;34m/\u001b[0m \u001b[0;32mFalse\u001b[0m\u001b[0;34m)\u001b[0m\u001b[0;34m\u001b[0m\u001b[0;34m\u001b[0m\u001b[0m\n\u001b[0m",
            "\u001b[0;31mZeroDivisionError\u001b[0m: division by zero"
          ]
        }
      ]
    },
    {
      "cell_type": "code",
      "source": [
        "#exercise 4.1\n",
        "#using an if statement to check if our first number if bigger than 10\n",
        "\n",
        "if number1 > 10:\n",
        "    print('this number is >10')"
      ],
      "metadata": {
        "id": "1xvlxTYwH3Gn"
      },
      "execution_count": null,
      "outputs": []
    },
    {
      "cell_type": "code",
      "source": [
        "#changing number1 and rerunning the code\n",
        "\n",
        "number1 = 20\n",
        "\n",
        "if number1 > 10:\n",
        "    print('this number is >10')"
      ],
      "metadata": {
        "colab": {
          "base_uri": "https://localhost:8080/"
        },
        "id": "9qbY78Z7JO4h",
        "outputId": "00167e0a-d617-4caf-e435-c5f44db7f268"
      },
      "execution_count": null,
      "outputs": [
        {
          "output_type": "stream",
          "name": "stdout",
          "text": [
            "this number is >10\n"
          ]
        }
      ]
    },
    {
      "cell_type": "code",
      "source": [
        "#4.2\n",
        "#adding a statement to check if the number is <10\n",
        "\n",
        "if number1 > 10:\n",
        "    print('this number is >10')\n",
        "\n",
        "else:\n",
        "    print('this number is <10')"
      ],
      "metadata": {
        "colab": {
          "base_uri": "https://localhost:8080/"
        },
        "id": "EkjUGtffJVoi",
        "outputId": "16bd8835-7ec1-419c-fa73-5f22cabc031e"
      },
      "execution_count": null,
      "outputs": [
        {
          "output_type": "stream",
          "name": "stdout",
          "text": [
            "this number is >10\n"
          ]
        }
      ]
    },
    {
      "cell_type": "code",
      "source": [
        "#changing number1 and rerunning the code\n",
        "\n",
        "number1 = 5\n",
        "\n",
        "if number1 > 10:\n",
        "    print('this number is >10')\n",
        "\n",
        "else:\n",
        "    print('this number is <10')"
      ],
      "metadata": {
        "colab": {
          "base_uri": "https://localhost:8080/"
        },
        "id": "5VF0LhFuJeMo",
        "outputId": "b5e3f53d-8ff5-4dbd-aa14-7f7cc1469a97"
      },
      "execution_count": null,
      "outputs": [
        {
          "output_type": "stream",
          "name": "stdout",
          "text": [
            "this number is <10\n"
          ]
        }
      ]
    },
    {
      "cell_type": "code",
      "source": [
        "#4.3\n",
        "#currently the code will not do anything if the number is 10\n",
        "#we can fix that by adding an elif statement\n",
        "\n",
        "number1 = 10\n",
        "\n",
        "if number1 > 10:\n",
        "    print('this number is >10')\n",
        "\n",
        "elif number1 == 10:\n",
        "    print('this number is 10')\n",
        "\n",
        "else:\n",
        "    print('this number is <10')"
      ],
      "metadata": {
        "colab": {
          "base_uri": "https://localhost:8080/"
        },
        "id": "U1g6yHLnJiTB",
        "outputId": "8786638f-aa89-4987-bb77-9eb2052c6449"
      },
      "execution_count": null,
      "outputs": [
        {
          "output_type": "stream",
          "name": "stdout",
          "text": [
            "this number is 10\n"
          ]
        }
      ]
    },
    {
      "cell_type": "code",
      "source": [
        "#4.4\n",
        "#creating a new word for elephant and writing code to check if it starts with a vowel\n",
        "\n",
        "word3 = 'elephant'\n",
        "\n",
        "if word3[0] == 'a':\n",
        "    print('the word starts with an a')\n",
        "\n",
        "elif word3[0] == 'e':\n",
        "    print('the word starts with an e')\n",
        "\n",
        "elif word3[0] == 'i':\n",
        "    print('the word starts with an i')\n",
        "\n",
        "elif word3[0] == 'o':\n",
        "    print('the word starts with an o')\n",
        "\n",
        "elif word3[0] == 'u':\n",
        "    print('the word starts with an u')"
      ],
      "metadata": {
        "colab": {
          "base_uri": "https://localhost:8080/"
        },
        "id": "TTmdANuMJu8_",
        "outputId": "d864f0e9-102f-4adc-8707-5f57f3f4af00"
      },
      "execution_count": null,
      "outputs": [
        {
          "output_type": "stream",
          "name": "stdout",
          "text": [
            "the word starts with an e\n"
          ]
        }
      ]
    },
    {
      "cell_type": "code",
      "source": [
        "#changing word3 to olive and running the code again to make sure it works as expected\n",
        "\n",
        "word3 = 'olive'\n",
        "\n",
        "if word3[0] == 'a':\n",
        "    print('the word starts with an a')\n",
        "\n",
        "elif word3[0] == 'e':\n",
        "    print('the word starts with an e')\n",
        "\n",
        "elif word3[0] == 'i':\n",
        "    print('the word starts with an i')\n",
        "\n",
        "elif word3[0] == 'o':\n",
        "    print('the word starts with an o')\n",
        "\n",
        "elif word3[0] == 'u':\n",
        "    print('the word starts with an u')"
      ],
      "metadata": {
        "colab": {
          "base_uri": "https://localhost:8080/"
        },
        "id": "MVF_gKwwK1fr",
        "outputId": "b550e930-86ae-4d06-ae40-25c7515044a5"
      },
      "execution_count": null,
      "outputs": [
        {
          "output_type": "stream",
          "name": "stdout",
          "text": [
            "the word starts with an o\n"
          ]
        }
      ]
    },
    {
      "cell_type": "code",
      "source": [
        "#4.5\n",
        "#creating variables for exam marks and a pass mark variable\n",
        "\n",
        "passmark = 50\n",
        "mark1 = 80\n",
        "mark2 = 60"
      ],
      "metadata": {
        "id": "iOaCmS0AK7K4"
      },
      "execution_count": null,
      "outputs": []
    },
    {
      "cell_type": "code",
      "source": [
        "#4.6\n",
        "#checking to see if both students have passed\n",
        "\n",
        "if mark1 > passmark and mark2 > passmark:\n",
        "    print('both students have passed!')"
      ],
      "metadata": {
        "colab": {
          "base_uri": "https://localhost:8080/"
        },
        "id": "jKyKLbO-LK4s",
        "outputId": "e32483ac-14d1-4ddf-f336-b0c173313c68"
      },
      "execution_count": null,
      "outputs": [
        {
          "output_type": "stream",
          "name": "stdout",
          "text": [
            "both students have passed!\n"
          ]
        }
      ]
    },
    {
      "cell_type": "code",
      "source": [
        "#4.7\n",
        "#adding additional code to reflect other outcomes for the exam\n",
        "\n",
        "if mark1 > passmark and mark2 > passmark:\n",
        "    print('both students have passed!')\n",
        "\n",
        "elif mark1 < passmark and mark2 < passmark:\n",
        "    print('no students have passed!')\n",
        "\n",
        "else:\n",
        "    print('one student has passed!')"
      ],
      "metadata": {
        "colab": {
          "base_uri": "https://localhost:8080/"
        },
        "id": "apQLhA8gLVPc",
        "outputId": "db838aa4-58fc-4032-def5-40c37454343f"
      },
      "execution_count": null,
      "outputs": [
        {
          "output_type": "stream",
          "name": "stdout",
          "text": [
            "both students have passed!\n"
          ]
        }
      ]
    },
    {
      "cell_type": "code",
      "source": [
        "#changing their marks to test our code\n",
        "\n",
        "mark1 = 40\n",
        "\n",
        "if mark1 > passmark and mark2 > passmark:\n",
        "    print('both students have passed!')\n",
        "\n",
        "elif mark1 < passmark and mark2 < passmark:\n",
        "    print('no students have passed!')\n",
        "\n",
        "else:\n",
        "    print('one student has passed!')"
      ],
      "metadata": {
        "colab": {
          "base_uri": "https://localhost:8080/"
        },
        "id": "G7GVJhp2LsWq",
        "outputId": "9d05ea51-cf72-4b14-eeb7-fd86313944bf"
      },
      "execution_count": null,
      "outputs": [
        {
          "output_type": "stream",
          "name": "stdout",
          "text": [
            "one student has passed!\n"
          ]
        }
      ]
    },
    {
      "cell_type": "code",
      "source": [
        "mark2 = 30\n",
        "\n",
        "if mark1 > passmark and mark2 > passmark:\n",
        "    print('both students have passed!')\n",
        "\n",
        "elif mark1 < passmark and mark2 < passmark:\n",
        "    print('no students have passed!')\n",
        "\n",
        "else:\n",
        "    print('one student has passed!')"
      ],
      "metadata": {
        "colab": {
          "base_uri": "https://localhost:8080/"
        },
        "id": "yeNXJV9ALxT-",
        "outputId": "82582606-0a3e-4ae3-d850-f0fe0b10bfc3"
      },
      "execution_count": null,
      "outputs": [
        {
          "output_type": "stream",
          "name": "stdout",
          "text": [
            "no students have passed!\n"
          ]
        }
      ]
    },
    {
      "cell_type": "code",
      "source": [
        "#exercise 5.1\n",
        "#asking the user to input their name, then printing it\n",
        "\n",
        "print('your name is', input('please input your name '))"
      ],
      "metadata": {
        "colab": {
          "base_uri": "https://localhost:8080/"
        },
        "id": "4HpWgi4vLy1w",
        "outputId": "ad1937b3-52c7-4e75-b9e4-45d9362f0118"
      },
      "execution_count": null,
      "outputs": [
        {
          "output_type": "stream",
          "name": "stdout",
          "text": [
            "please input your name Goose\n",
            "your name is Goose\n"
          ]
        }
      ]
    },
    {
      "cell_type": "code",
      "source": [
        "#5.2\n",
        "#taking a user number and saving it as a variable\n",
        "\n",
        "number3 = input()\n",
        "\n",
        "#casting the variable from a string to an integer\n",
        "\n",
        "number3 = int(number3)\n",
        "\n",
        "#squaring and printing the result\n",
        "\n",
        "print(number3**2)"
      ],
      "metadata": {
        "colab": {
          "base_uri": "https://localhost:8080/"
        },
        "id": "yOudS6krMMXi",
        "outputId": "7998a6e3-2d90-4474-ed18-b8fd3127dbe3"
      },
      "execution_count": null,
      "outputs": [
        {
          "output_type": "stream",
          "name": "stdout",
          "text": [
            "2\n",
            "4\n"
          ]
        }
      ]
    },
    {
      "cell_type": "code",
      "source": [
        "#5.3\n",
        "#taking a user number and saving it as a variable\n",
        "\n",
        "number4 = input('please enter a number')\n",
        "\n",
        "number5 = input('please enter another number')\n",
        "\n",
        "#casting both numbers to integers\n",
        "\n",
        "number4 = int(number4)\n",
        "number5 = int(number5)\n",
        "\n",
        "#printing the sum\n",
        "\n",
        "print(number4 + number5)"
      ],
      "metadata": {
        "colab": {
          "base_uri": "https://localhost:8080/"
        },
        "id": "Lbt5YMIYM0SA",
        "outputId": "75b23fb4-332c-400f-fa50-820114f7406d"
      },
      "execution_count": null,
      "outputs": [
        {
          "output_type": "stream",
          "name": "stdout",
          "text": [
            "please enter a number4\n",
            "please enter another number5\n",
            "9\n"
          ]
        }
      ]
    },
    {
      "cell_type": "code",
      "source": [
        "#exercise 6.1\n",
        "#asking the user to input a number then casting it to an integer\n",
        "\n",
        "number1 = input('please enter a number ')\n",
        "number1 = int(number1)\n",
        "\n",
        "#using an if statement and % operator to determine if the number is even or odd\n",
        "\n",
        "if number1 % 2 == 0:\n",
        "    print('this number is even')\n",
        "\n",
        "else:\n",
        "    print('this number is odd')"
      ],
      "metadata": {
        "colab": {
          "base_uri": "https://localhost:8080/"
        },
        "id": "qurE1ImWNWRc",
        "outputId": "22c3044b-31b7-4a93-8a65-32088a105e90"
      },
      "execution_count": null,
      "outputs": [
        {
          "output_type": "stream",
          "name": "stdout",
          "text": [
            "please enter a number22\n",
            "this number is even\n"
          ]
        }
      ]
    },
    {
      "cell_type": "code",
      "source": [
        "#6.2\n",
        "#calculating BMI\n",
        "#first asking the user to input their weight and height\n",
        "#casting both inputs into floats, as floats can have decimal places\n",
        "\n",
        "weight = input('please enter your weight in kg ')\n",
        "height = input('please enter your height in m ')\n",
        "\n",
        "weight = float(weight)\n",
        "height = float(height)\n",
        "\n",
        "#creating a new variable to calculate and store their BMI\n",
        "\n",
        "bmi = weight/height**2\n",
        "\n",
        "print(bmi)"
      ],
      "metadata": {
        "colab": {
          "base_uri": "https://localhost:8080/"
        },
        "id": "ifhTQkHTTR5l",
        "outputId": "1c38be27-2890-4ed0-8dc3-2cce696f10bc"
      },
      "execution_count": null,
      "outputs": [
        {
          "output_type": "stream",
          "name": "stdout",
          "text": [
            "please enter your weight in kg 50\n",
            "please enter your height in m 1.6\n",
            "19.531249999999996\n"
          ]
        }
      ]
    },
    {
      "cell_type": "code",
      "source": [
        "#6.3\n",
        "#calculating their BMI category based on:\n",
        "#underweight: <18.5\n",
        "#normal: 18.5-24.9\n",
        "#overweight: 25-29.9\n",
        "#obese: 30+\n",
        "\n",
        "#remember the code will sequentially check if each statement is True before moving onto the next one\n",
        "#we can use this to avoid having to specify both ends of a range\n",
        "\n",
        "if bmi >= 30:\n",
        "    print('your bmi of', bmi, 'means you are obese')\n",
        "\n",
        "elif bmi >= 25:\n",
        "    print('your bmi of', bmi, 'means you are overweight')\n",
        "\n",
        "elif bmi >= 18.5:\n",
        "    print('your bmi of', bmi, 'means you are normal')\n",
        "\n",
        "else:\n",
        "    print('your bmi of', bmi, 'means you are underweight')"
      ],
      "metadata": {
        "colab": {
          "base_uri": "https://localhost:8080/"
        },
        "id": "fdOoH_oOTy4w",
        "outputId": "2875d614-1783-41cf-f76e-607a40239677"
      },
      "execution_count": null,
      "outputs": [
        {
          "output_type": "stream",
          "name": "stdout",
          "text": [
            "your bmi of 19.531249999999996 means you are normal\n"
          ]
        }
      ]
    },
    {
      "cell_type": "code",
      "source": [
        "#6.4\n",
        "#assessing if inputted systolic blood pressure (SBP) indicates hypertension\n",
        "\n",
        "sbp = input('please enter your systolic blood pressure')\n",
        "sbp = int(sbp)\n",
        "\n",
        "if sbp >140:\n",
        "    print('you have high blood pressure')\n",
        "\n",
        "else:\n",
        "    print('you do not have high blood pressure')"
      ],
      "metadata": {
        "colab": {
          "base_uri": "https://localhost:8080/"
        },
        "id": "Iof00rA5VS3S",
        "outputId": "bc5ae41d-c7d6-4316-d9b1-aa1b07b1b4a0"
      },
      "execution_count": null,
      "outputs": [
        {
          "output_type": "stream",
          "name": "stdout",
          "text": [
            "please enter your systolic blood pressure156\n",
            "you have high blood pressure\n"
          ]
        }
      ]
    },
    {
      "cell_type": "code",
      "source": [
        "#6.5\n",
        "#asking for further patient information using more inputs\n",
        "#we can use a \\ before an ' to include quotation marks within a string\n",
        "\n",
        "age = input('please input your age ')\n",
        "age = int(age)\n",
        "\n",
        "t2dm = input('please enter \\'yes\\' if you have type 2 diabetes, else enter \\'no\\' ')\n",
        "\n",
        "ac = input('please enter \\'yes\\' if you have are of African/Caribbean descent, else enter \\'no\\' ')"
      ],
      "metadata": {
        "colab": {
          "base_uri": "https://localhost:8080/"
        },
        "id": "gKi1jRRUV7TJ",
        "outputId": "89f7c2f2-dcc1-48af-f23d-6766b593c82c"
      },
      "execution_count": null,
      "outputs": [
        {
          "name": "stdout",
          "output_type": "stream",
          "text": [
            "please input your age55\n",
            "please enter 'yes' if you have type 2 diabetes, else enter 'no'yes\n",
            "please enter 'yes' if you have are of African/Caribbean descent, else enter 'no'no\n"
          ]
        }
      ]
    },
    {
      "cell_type": "code",
      "source": [
        "#6.6\n",
        "#using the 3 inputted variables above and if/elifs to recommend a drug\n",
        "\n",
        "if ac == 'yes':\n",
        "    print('recommend a calcium channel blocker')\n",
        "\n",
        "elif t2dm == 'yes':\n",
        "    print('recommend an ace inhibitor')\n",
        "\n",
        "elif age >= 55:\n",
        "    print('recommend a calcium channel blocker')\n",
        "\n",
        "else:\n",
        "    print('recommend an ace inhibitor')"
      ],
      "metadata": {
        "colab": {
          "base_uri": "https://localhost:8080/"
        },
        "id": "0bXHM7sfXOw9",
        "outputId": "8f1c9b51-bb24-4b1d-ed79-9094d21af907"
      },
      "execution_count": null,
      "outputs": [
        {
          "output_type": "stream",
          "name": "stdout",
          "text": [
            "recommend an ace inhibitor\n"
          ]
        }
      ]
    },
    {
      "cell_type": "code",
      "source": [],
      "metadata": {
        "id": "gQ6sF8KlYTcs"
      },
      "execution_count": null,
      "outputs": []
    }
  ]
}